{
  "nbformat": 4,
  "nbformat_minor": 0,
  "metadata": {
    "colab": {
      "name": "Task 10",
      "provenance": [],
      "authorship_tag": "ABX9TyMh4NtYppaLIGS732TqLH43",
      "include_colab_link": true
    },
    "kernelspec": {
      "name": "python3",
      "display_name": "Python 3"
    },
    "language_info": {
      "name": "python"
    }
  },
  "cells": [
    {
      "cell_type": "markdown",
      "metadata": {
        "id": "view-in-github",
        "colab_type": "text"
      },
      "source": [
        "<a href=\"https://colab.research.google.com/github/Shubzzz24/Goeduhub-Datascience-ML/blob/main/Task_10.ipynb\" target=\"_parent\"><img src=\"https://colab.research.google.com/assets/colab-badge.svg\" alt=\"Open In Colab\"/></a>"
      ]
    },
    {
      "cell_type": "markdown",
      "metadata": {
        "id": "UPNZ1dwne2YB"
      },
      "source": [
        "## **Task 10**\n",
        "## **Reg Id : GO_STP_13238**\n",
        "## **Author : Shubham Rohidas Hundare**"
      ]
    },
    {
      "cell_type": "markdown",
      "metadata": {
        "id": "DsFXDYEukgNi"
      },
      "source": [
        "Q.1) Discuss the concept of One-Hot-Encoding, Multicollinearity and the Dummy Variable Trap.  What is Nominal and Ordinal Variables ? "
      ]
    },
    {
      "cell_type": "markdown",
      "metadata": {
        "id": "JorW0vNilDrI"
      },
      "source": [
        "1) **One-Hot-Encoding**\n",
        "\n",
        "Machine learning algorithms cannot work directly with categorical data and they must be transformed into numeric values before training a model. Most common type of categorical encoding is One Hot Encoding (also known as dummy encoding) where each categorical level becomes a separate feature in the dataset containing binary values (1 or 0). For example, when the data is ordinal i.e. data has intrinsic levels, ordinal encoding must be used. One Hot Encoding works on all features that are either inferred as categorical or are forced as categorical using categorical_features parameter within setup.\n",
        "\n",
        "**Multicollinearity:**\n",
        "\n",
        "In regression, \"multicollinearity\" refers to predictors that are correlated with other predictors. Multicollinearity occurs when your model includes multiple factors that are correlated not just to your response variable, but also to each other. In other words, it results when you have factors that are a bit redundant.\n",
        "\n",
        "**Dummy Variable Trap:**\n",
        "\n",
        "The Dummy Variable trap is a scenario in which the independent variables are multicollinear - a scenario in which two or more variables are highly correlated; in simple terms one variable can be predicted from the others.\n",
        "\n",
        "**Nominal Variables:**\n",
        "\n",
        "A nominal variable is a type of variable that is used to name, label or categorize particular attributes that are being measured. It takes qualitative values representing different categories, and there is no intrinsic ordering of these categories.\n",
        "You can code nominal variables with numbers, but the order is arbitrary and arithmetic operations cannot be performed on the numbers. This is the case when a person’s phone number, National Identification Number postal code, etc. are being collected.\n",
        "A nominal variable is one of the 2 types of categorical variables and is the simplest among all the measurement variables. Some examples of nominal variables include gender, Name, phone, etc.\n",
        "\n",
        "**Ordinal Variables:**\n",
        "\n",
        "Ordinal variable is a type of measurement variable that takes values with an order or rank. It is the 2nd level of measurement and is an extension of the nominal variable.\n",
        "They are built upon nominal scales by assigning numbers to objects to reflect a rank or ordering on an attribute. Also, there is no standard ordering in the ordinal variable scale.\n",
        "In another sense, we could say the difference in the rank of an ordinal variable is not equal. It is mostly classified as one of the 2 types of categorical variables, while in some cases it is said to be a midpoint between categorical and numerical variables."
      ]
    },
    {
      "cell_type": "markdown",
      "metadata": {
        "id": "HeAGynv6lNKk"
      },
      "source": [
        "Q2) Salary Dataset of 52 professors having categorical columns. Apply dummy variables concept and one-hot-encoding on categorical columns."
      ]
    },
    {
      "cell_type": "code",
      "metadata": {
        "id": "LRIE1bL7te9W"
      },
      "source": [
        "import numpy as np\n",
        "import pandas as pd\n"
      ],
      "execution_count": 1,
      "outputs": []
    },
    {
      "cell_type": "code",
      "metadata": {
        "colab": {
          "base_uri": "https://localhost:8080/",
          "height": 203
        },
        "id": "lND8owDVtvQP",
        "outputId": "0b430f09-d2eb-425c-b42a-8ac5a85c4f38"
      },
      "source": [
        "df = pd.read_csv('/content/employee.txt',delim_whitespace=True)\n",
        "df.head()"
      ],
      "execution_count": 3,
      "outputs": [
        {
          "output_type": "execute_result",
          "data": {
            "text/html": [
              "<div>\n",
              "<style scoped>\n",
              "    .dataframe tbody tr th:only-of-type {\n",
              "        vertical-align: middle;\n",
              "    }\n",
              "\n",
              "    .dataframe tbody tr th {\n",
              "        vertical-align: top;\n",
              "    }\n",
              "\n",
              "    .dataframe thead th {\n",
              "        text-align: right;\n",
              "    }\n",
              "</style>\n",
              "<table border=\"1\" class=\"dataframe\">\n",
              "  <thead>\n",
              "    <tr style=\"text-align: right;\">\n",
              "      <th></th>\n",
              "      <th>sx</th>\n",
              "      <th>rk</th>\n",
              "      <th>yr</th>\n",
              "      <th>dg</th>\n",
              "      <th>yd</th>\n",
              "      <th>sl</th>\n",
              "    </tr>\n",
              "  </thead>\n",
              "  <tbody>\n",
              "    <tr>\n",
              "      <th>0</th>\n",
              "      <td>male</td>\n",
              "      <td>full</td>\n",
              "      <td>25</td>\n",
              "      <td>doctorate</td>\n",
              "      <td>35</td>\n",
              "      <td>36350</td>\n",
              "    </tr>\n",
              "    <tr>\n",
              "      <th>1</th>\n",
              "      <td>male</td>\n",
              "      <td>full</td>\n",
              "      <td>13</td>\n",
              "      <td>doctorate</td>\n",
              "      <td>22</td>\n",
              "      <td>35350</td>\n",
              "    </tr>\n",
              "    <tr>\n",
              "      <th>2</th>\n",
              "      <td>male</td>\n",
              "      <td>full</td>\n",
              "      <td>10</td>\n",
              "      <td>doctorate</td>\n",
              "      <td>23</td>\n",
              "      <td>28200</td>\n",
              "    </tr>\n",
              "    <tr>\n",
              "      <th>3</th>\n",
              "      <td>female</td>\n",
              "      <td>full</td>\n",
              "      <td>7</td>\n",
              "      <td>doctorate</td>\n",
              "      <td>27</td>\n",
              "      <td>26775</td>\n",
              "    </tr>\n",
              "    <tr>\n",
              "      <th>4</th>\n",
              "      <td>male</td>\n",
              "      <td>full</td>\n",
              "      <td>19</td>\n",
              "      <td>masters</td>\n",
              "      <td>30</td>\n",
              "      <td>33696</td>\n",
              "    </tr>\n",
              "  </tbody>\n",
              "</table>\n",
              "</div>"
            ],
            "text/plain": [
              "       sx    rk  yr         dg  yd     sl\n",
              "0    male  full  25  doctorate  35  36350\n",
              "1    male  full  13  doctorate  22  35350\n",
              "2    male  full  10  doctorate  23  28200\n",
              "3  female  full   7  doctorate  27  26775\n",
              "4    male  full  19    masters  30  33696"
            ]
          },
          "metadata": {
            "tags": []
          },
          "execution_count": 3
        }
      ]
    },
    {
      "cell_type": "code",
      "metadata": {
        "colab": {
          "base_uri": "https://localhost:8080/",
          "height": 295
        },
        "id": "uRiUNNVdt5gB",
        "outputId": "11c130c9-0422-4b24-b1f3-d7010f0648fd"
      },
      "source": [
        "df.describe()"
      ],
      "execution_count": 4,
      "outputs": [
        {
          "output_type": "execute_result",
          "data": {
            "text/html": [
              "<div>\n",
              "<style scoped>\n",
              "    .dataframe tbody tr th:only-of-type {\n",
              "        vertical-align: middle;\n",
              "    }\n",
              "\n",
              "    .dataframe tbody tr th {\n",
              "        vertical-align: top;\n",
              "    }\n",
              "\n",
              "    .dataframe thead th {\n",
              "        text-align: right;\n",
              "    }\n",
              "</style>\n",
              "<table border=\"1\" class=\"dataframe\">\n",
              "  <thead>\n",
              "    <tr style=\"text-align: right;\">\n",
              "      <th></th>\n",
              "      <th>yr</th>\n",
              "      <th>yd</th>\n",
              "      <th>sl</th>\n",
              "    </tr>\n",
              "  </thead>\n",
              "  <tbody>\n",
              "    <tr>\n",
              "      <th>count</th>\n",
              "      <td>52.000000</td>\n",
              "      <td>52.000000</td>\n",
              "      <td>52.000000</td>\n",
              "    </tr>\n",
              "    <tr>\n",
              "      <th>mean</th>\n",
              "      <td>7.480769</td>\n",
              "      <td>16.115385</td>\n",
              "      <td>23797.653846</td>\n",
              "    </tr>\n",
              "    <tr>\n",
              "      <th>std</th>\n",
              "      <td>5.507536</td>\n",
              "      <td>10.222340</td>\n",
              "      <td>5917.289154</td>\n",
              "    </tr>\n",
              "    <tr>\n",
              "      <th>min</th>\n",
              "      <td>0.000000</td>\n",
              "      <td>1.000000</td>\n",
              "      <td>15000.000000</td>\n",
              "    </tr>\n",
              "    <tr>\n",
              "      <th>25%</th>\n",
              "      <td>3.000000</td>\n",
              "      <td>6.750000</td>\n",
              "      <td>18246.750000</td>\n",
              "    </tr>\n",
              "    <tr>\n",
              "      <th>50%</th>\n",
              "      <td>7.000000</td>\n",
              "      <td>15.500000</td>\n",
              "      <td>23719.000000</td>\n",
              "    </tr>\n",
              "    <tr>\n",
              "      <th>75%</th>\n",
              "      <td>11.000000</td>\n",
              "      <td>23.250000</td>\n",
              "      <td>27258.500000</td>\n",
              "    </tr>\n",
              "    <tr>\n",
              "      <th>max</th>\n",
              "      <td>25.000000</td>\n",
              "      <td>35.000000</td>\n",
              "      <td>38045.000000</td>\n",
              "    </tr>\n",
              "  </tbody>\n",
              "</table>\n",
              "</div>"
            ],
            "text/plain": [
              "              yr         yd            sl\n",
              "count  52.000000  52.000000     52.000000\n",
              "mean    7.480769  16.115385  23797.653846\n",
              "std     5.507536  10.222340   5917.289154\n",
              "min     0.000000   1.000000  15000.000000\n",
              "25%     3.000000   6.750000  18246.750000\n",
              "50%     7.000000  15.500000  23719.000000\n",
              "75%    11.000000  23.250000  27258.500000\n",
              "max    25.000000  35.000000  38045.000000"
            ]
          },
          "metadata": {
            "tags": []
          },
          "execution_count": 4
        }
      ]
    },
    {
      "cell_type": "code",
      "metadata": {
        "colab": {
          "base_uri": "https://localhost:8080/"
        },
        "id": "Rp_kawiOuP3U",
        "outputId": "62152818-529b-4731-bd70-55d13d74bf03"
      },
      "source": [
        "df.info()"
      ],
      "execution_count": 5,
      "outputs": [
        {
          "output_type": "stream",
          "text": [
            "<class 'pandas.core.frame.DataFrame'>\n",
            "RangeIndex: 52 entries, 0 to 51\n",
            "Data columns (total 6 columns):\n",
            " #   Column  Non-Null Count  Dtype \n",
            "---  ------  --------------  ----- \n",
            " 0   sx      52 non-null     object\n",
            " 1   rk      52 non-null     object\n",
            " 2   yr      52 non-null     int64 \n",
            " 3   dg      52 non-null     object\n",
            " 4   yd      52 non-null     int64 \n",
            " 5   sl      52 non-null     int64 \n",
            "dtypes: int64(3), object(3)\n",
            "memory usage: 2.6+ KB\n"
          ],
          "name": "stdout"
        }
      ]
    },
    {
      "cell_type": "code",
      "metadata": {
        "colab": {
          "base_uri": "https://localhost:8080/"
        },
        "id": "0yplX72_uRqp",
        "outputId": "07469e81-ac5f-43f5-f80e-0381feb7b75e"
      },
      "source": [
        "df.shape"
      ],
      "execution_count": 6,
      "outputs": [
        {
          "output_type": "execute_result",
          "data": {
            "text/plain": [
              "(52, 6)"
            ]
          },
          "metadata": {
            "tags": []
          },
          "execution_count": 6
        }
      ]
    },
    {
      "cell_type": "code",
      "metadata": {
        "colab": {
          "base_uri": "https://localhost:8080/"
        },
        "id": "JEG_5dzauZJG",
        "outputId": "4a146d7b-f594-4f2d-c47b-0a28071c659b"
      },
      "source": [
        "df.size"
      ],
      "execution_count": 7,
      "outputs": [
        {
          "output_type": "execute_result",
          "data": {
            "text/plain": [
              "312"
            ]
          },
          "metadata": {
            "tags": []
          },
          "execution_count": 7
        }
      ]
    },
    {
      "cell_type": "code",
      "metadata": {
        "colab": {
          "base_uri": "https://localhost:8080/",
          "height": 203
        },
        "id": "6r7d7L42uaXU",
        "outputId": "fbb6ea25-5bd5-4f5a-92b0-c36b6b4fff05"
      },
      "source": [
        "pd.get_dummies(df,columns=['sx','rk','dg'],drop_first=True).head()"
      ],
      "execution_count": 9,
      "outputs": [
        {
          "output_type": "execute_result",
          "data": {
            "text/html": [
              "<div>\n",
              "<style scoped>\n",
              "    .dataframe tbody tr th:only-of-type {\n",
              "        vertical-align: middle;\n",
              "    }\n",
              "\n",
              "    .dataframe tbody tr th {\n",
              "        vertical-align: top;\n",
              "    }\n",
              "\n",
              "    .dataframe thead th {\n",
              "        text-align: right;\n",
              "    }\n",
              "</style>\n",
              "<table border=\"1\" class=\"dataframe\">\n",
              "  <thead>\n",
              "    <tr style=\"text-align: right;\">\n",
              "      <th></th>\n",
              "      <th>yr</th>\n",
              "      <th>yd</th>\n",
              "      <th>sl</th>\n",
              "      <th>sx_male</th>\n",
              "      <th>rk_associate</th>\n",
              "      <th>rk_full</th>\n",
              "      <th>dg_masters</th>\n",
              "    </tr>\n",
              "  </thead>\n",
              "  <tbody>\n",
              "    <tr>\n",
              "      <th>0</th>\n",
              "      <td>25</td>\n",
              "      <td>35</td>\n",
              "      <td>36350</td>\n",
              "      <td>1</td>\n",
              "      <td>0</td>\n",
              "      <td>1</td>\n",
              "      <td>0</td>\n",
              "    </tr>\n",
              "    <tr>\n",
              "      <th>1</th>\n",
              "      <td>13</td>\n",
              "      <td>22</td>\n",
              "      <td>35350</td>\n",
              "      <td>1</td>\n",
              "      <td>0</td>\n",
              "      <td>1</td>\n",
              "      <td>0</td>\n",
              "    </tr>\n",
              "    <tr>\n",
              "      <th>2</th>\n",
              "      <td>10</td>\n",
              "      <td>23</td>\n",
              "      <td>28200</td>\n",
              "      <td>1</td>\n",
              "      <td>0</td>\n",
              "      <td>1</td>\n",
              "      <td>0</td>\n",
              "    </tr>\n",
              "    <tr>\n",
              "      <th>3</th>\n",
              "      <td>7</td>\n",
              "      <td>27</td>\n",
              "      <td>26775</td>\n",
              "      <td>0</td>\n",
              "      <td>0</td>\n",
              "      <td>1</td>\n",
              "      <td>0</td>\n",
              "    </tr>\n",
              "    <tr>\n",
              "      <th>4</th>\n",
              "      <td>19</td>\n",
              "      <td>30</td>\n",
              "      <td>33696</td>\n",
              "      <td>1</td>\n",
              "      <td>0</td>\n",
              "      <td>1</td>\n",
              "      <td>1</td>\n",
              "    </tr>\n",
              "  </tbody>\n",
              "</table>\n",
              "</div>"
            ],
            "text/plain": [
              "   yr  yd     sl  sx_male  rk_associate  rk_full  dg_masters\n",
              "0  25  35  36350        1             0        1           0\n",
              "1  13  22  35350        1             0        1           0\n",
              "2  10  23  28200        1             0        1           0\n",
              "3   7  27  26775        0             0        1           0\n",
              "4  19  30  33696        1             0        1           1"
            ]
          },
          "metadata": {
            "tags": []
          },
          "execution_count": 9
        }
      ]
    },
    {
      "cell_type": "code",
      "metadata": {
        "colab": {
          "base_uri": "https://localhost:8080/"
        },
        "id": "u9Xwx3q8vEpv",
        "outputId": "d87ca34b-9f2d-4bda-8dda-50ecc1da8240"
      },
      "source": [
        "from sklearn.preprocessing import OneHotEncoder\n",
        "from sklearn.compose import ColumnTransformer\n",
        "ct= ColumnTransformer([('encoder',OneHotEncoder(),[0,1,3])], remainder='passthrough')\n",
        "data= np.array(ct.fit_transform(df), dtype=str)\n",
        "print(data[:7])"
      ],
      "execution_count": 10,
      "outputs": [
        {
          "output_type": "stream",
          "text": [
            "[['0.0' '1.0' '0.0' '0.0' '1.0' '1.0' '0.0' '25.0' '35.0' '36350.0']\n",
            " ['0.0' '1.0' '0.0' '0.0' '1.0' '1.0' '0.0' '13.0' '22.0' '35350.0']\n",
            " ['0.0' '1.0' '0.0' '0.0' '1.0' '1.0' '0.0' '10.0' '23.0' '28200.0']\n",
            " ['1.0' '0.0' '0.0' '0.0' '1.0' '1.0' '0.0' '7.0' '27.0' '26775.0']\n",
            " ['0.0' '1.0' '0.0' '0.0' '1.0' '0.0' '1.0' '19.0' '30.0' '33696.0']\n",
            " ['0.0' '1.0' '0.0' '0.0' '1.0' '1.0' '0.0' '16.0' '21.0' '28516.0']\n",
            " ['1.0' '0.0' '0.0' '0.0' '1.0' '0.0' '1.0' '0.0' '32.0' '24900.0']]\n"
          ],
          "name": "stdout"
        }
      ]
    }
  ]
}