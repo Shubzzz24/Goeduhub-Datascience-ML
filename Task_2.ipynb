{
  "nbformat": 4,
  "nbformat_minor": 0,
  "metadata": {
    "colab": {
      "name": "Task 2.ipynb",
      "provenance": [],
      "collapsed_sections": [],
      "authorship_tag": "ABX9TyPTIyihkYalTkfiNOkEdVW7",
      "include_colab_link": true
    },
    "kernelspec": {
      "name": "python3",
      "display_name": "Python 3"
    },
    "language_info": {
      "name": "python"
    }
  },
  "cells": [
    {
      "cell_type": "markdown",
      "metadata": {
        "id": "view-in-github",
        "colab_type": "text"
      },
      "source": [
        "<a href=\"https://colab.research.google.com/github/Shubzzz24/Goeduhub-Datascience-ML/blob/main/Task_2.ipynb\" target=\"_parent\"><img src=\"https://colab.research.google.com/assets/colab-badge.svg\" alt=\"Open In Colab\"/></a>"
      ]
    },
    {
      "cell_type": "markdown",
      "metadata": {
        "id": "rucHiewQ1RB4"
      },
      "source": [
        "**Reg Id :GO_STP_13238**\n",
        "\n",
        "**Name : Shubham Rohidas Hundare**\n",
        "\n",
        "**Assignment: 2** "
      ]
    },
    {
      "cell_type": "markdown",
      "metadata": {
        "id": "faD9jdIj11q7"
      },
      "source": [
        "**1) Is a list mutable?**\n",
        "\n",
        "Ans : List is a mutable datatype. its data can be modify.\n",
        "\n",
        "\n",
        "**2) Does a list need to be homogeneous?**\n",
        "\n",
        "Ans : No , List can contain different datatypes. it can contain int , float , string datatypes in a single list. hence list can be heterogeneous.\n",
        "\n",
        "**3) What is the difference between a list and a tuple.**\n",
        "\n",
        "Ans : list is mutable datatype where tuple is a immutable datatype. i.e. list can be modify and tuple can not be modify.\n",
        "\n",
        "**4) How to find the number of elements in the list?**\n",
        "\n",
        "Ans : By using built in function len() we can find the number of elements in the list.\n",
        "\n",
        "**5) How to check whether the list is empty or not?**\n",
        "\n",
        "Ans : By using 1) if not sequence 2) Using len() function 4) By comparing with empty list. we can check whether list is empty or not.\n",
        "\n",
        "**6) How to find the first and last element of the list?**\n",
        "\n",
        "Ans : Using 1) indexing 2) slicing 3) loop  we can find out first and last element of the list.\n",
        "\n",
        "**7) How to find the largest and lowest value in the list?**\n",
        "\n",
        "Ans : Using inbuilt function max() and min() we can find out the largest and lowest value in the list.\n",
        "\n",
        "**8) How to access elements of the list?**\n",
        "\n",
        "Ans : Python has a great built-in list type named \"list\". List literals are written within square brackets[ ]."
      ]
    },
    {
      "cell_type": "markdown",
      "metadata": {
        "id": "PcP1yVVx6nVD"
      },
      "source": [
        "**9) Remove elements in a list before a specific index**\n",
        "\n",
        "Ans : Using  slice i.e. del list[0:X] where X is the last index , upto which we have to remove elements.\n",
        "\n",
        "**10) Remove elements in a list between 2 indices**\n",
        "\n",
        "Ans : Using slice i.e. del list[X:Y] , where X is the starting position and Y is the last position upto where we have to delete elements. we can delete the elements\n",
        "\n",
        "**11) Return every 2nd element in a list between 2 indices**\n",
        "Ans : Using list[X:Y:2] we can return every 2nd elements. where X is starting point and Y is end point.\n",
        "\n",
        "**12)Get the first element from each nested list in a list**\n",
        "\n",
        "Ans :Using !)for loop 2) zip  3) unpacking(*) operator\n",
        "\n",
        "**13) How to modify elements of the list?**\n",
        "\n",
        "Ans : Using slicing i.e. list[n]= value  we can modify list. where n is the index of the element.\n",
        "\n",
        "**14) How to concatenate two lists?**\n",
        "\n",
        "Ans : we can concat list by 1)using inbuilt extend() function 2) By using '+' operator 3) using list comprehension.\n",
        "\n",
        "**15) How to add two lists element-wise in python?**\n",
        "\n"
      ]
    },
    {
      "cell_type": "code",
      "metadata": {
        "colab": {
          "base_uri": "https://localhost:8080/"
        },
        "id": "HNNEqWJjAcdm",
        "outputId": "086afc51-14fc-4ad4-8618-9a0571db23be"
      },
      "source": [
        "list1 = [1,2,3]\n",
        "list2 = [4,5,6]\n",
        "ans = []\n",
        "\n",
        "for(item1,item2) in zip(list1,list2):\n",
        "  ans.append(item1+item2)\n",
        "\n",
        "print(ans)"
      ],
      "execution_count": null,
      "outputs": [
        {
          "output_type": "stream",
          "text": [
            "[5, 7, 9]\n"
          ],
          "name": "stdout"
        }
      ]
    },
    {
      "cell_type": "markdown",
      "metadata": {
        "id": "yBlYHUS3BW8T"
      },
      "source": [
        "**16) Difference between del and clear?**\n",
        "\n",
        "Ans : Clear () function delete the all keys and values in the dictionary and leave the dictionary empty. While del() delete the complete dictionary.\n",
        "\n",
        "**17) Difference between remove and pop?**\n",
        "\n",
        "Ans :Remove() deletes the matching element from the list whereas the  pop removes the element present at specified index and returns it.\n",
        "\n",
        "**18) Difference between append and extend?**\n",
        "\n",
        "Ans : append() function is use to add element at last position in the list , where extend() function is use for concating the two lists.\n",
        "\n",
        "**19) Difference between indexing and Slicing?**\n",
        "\n",
        "Ans : Indexing is used to obtain individual elements. Slicing is used to obtain a sequence of elements.\n",
        "\n",
        "**20) Difference between sort and sorted?**\n",
        "\n",
        "Ans : The primary difference between the list sort() function and the sorted() function is that the sort() function will modify the list it is called on. The sorted() function will create a new list containing a sorted version of the list it is given.\n",
        "\n",
        "**21) Difference between reverse and reversed?**\n",
        "\n",
        "Ans:reverse() actually reverses the elements in the container. reversed() doesn't actually reverse anything, it merely returns an object that can be used to iterate over the container's elements in reverse order.\n",
        "\n",
        "**22) Difference between copy and deepcopy?**\n",
        "\n",
        "Ans : copy constructs a new compound object and then (to the extent possible) inserts references into it to the objects found in the original. A deep copy constructs a new compound object and then, recursively, inserts copies into it of the objects found in the original.\n",
        "\n",
        "**23) How to remove duplicate elements in the list?**\n",
        "\n",
        "Ans :Using a 1)temporary List and Looping.\n",
        "2)Using set() built-in method.\n",
        "3)Using Dictionary Keys.\n",
        "4)List count() function.\n",
        "5)List Comprehension\n",
        "\n",
        "\n"
      ]
    },
    {
      "cell_type": "markdown",
      "metadata": {
        "id": "AUOxNDYDFAcd"
      },
      "source": [
        "**24) How to find an index of an element in the python list?**\n",
        "\n",
        "Ans : The index() method returns the index of the specified element in the list.\n",
        "\n",
        "**25) How to find the occurrences of an element in the python list?**\n",
        "\n",
        "Ans : Using 1)Count() function 2) In , not in  we can find occurrence of an element.\n",
        "\n",
        "**26) How to insert an item at a given position?**\n",
        "\n",
        "Ans : using insert() function we can insert item at given position.\n",
        "\n",
        "**27) How to check if an item is in the list?**\n",
        "\n",
        "Ans : Using 'In' and 'Not in' we can check if an item is in list or not.\n",
        "\n",
        "**28) How to flatten a list in python?**\n",
        "\n",
        "Ans : Flatten list means converting multidimensional lists into one-dimensional list.we can flatten the list 1)using sum() and 2) using string comprehension \n",
        "\n",
        "**29) How to convert python list to other data structures like set, tuple, dictionary?**\n",
        "\n",
        "Ans : 1) Using set.(list_name), 2) Using tuple.(list_name), 3) Using dict.(list_name)\n",
        "\n",
        "**30) How to apply a function to all items in the list?**\n",
        "\n",
        "Ans : using map() we can apply a function to all items in the list.\n",
        "\n",
        "**31) How to filter the elements based on a function in a python list?**\n",
        "\n",
        "Ans : using built in function filter()\n",
        "\n",
        "**32) How python lists are stored in memory?**\n",
        "\n",
        "\n",
        "Ans : Instead of storing values in the memory space reserved by the variable, Python has the variable refer to the value. Similar to pointers in C, variables in Python refer to values (or objects) stored somewhere in memory."
      ]
    }
  ]
}