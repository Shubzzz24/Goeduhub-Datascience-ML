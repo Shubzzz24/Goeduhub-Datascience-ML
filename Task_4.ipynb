{
  "nbformat": 4,
  "nbformat_minor": 0,
  "metadata": {
    "colab": {
      "name": "Task 4",
      "provenance": [],
      "collapsed_sections": [],
      "authorship_tag": "ABX9TyOt8dOh2Hojnugai4HFov9g",
      "include_colab_link": true
    },
    "kernelspec": {
      "name": "python3",
      "display_name": "Python 3"
    },
    "language_info": {
      "name": "python"
    }
  },
  "cells": [
    {
      "cell_type": "markdown",
      "metadata": {
        "id": "view-in-github",
        "colab_type": "text"
      },
      "source": [
        "<a href=\"https://colab.research.google.com/github/Shubzzz24/Goeduhub-Datascience-ML/blob/main/Task_4.ipynb\" target=\"_parent\"><img src=\"https://colab.research.google.com/assets/colab-badge.svg\" alt=\"Open In Colab\"/></a>"
      ]
    },
    {
      "cell_type": "markdown",
      "metadata": {
        "id": "t_iuQQDrVRvF"
      },
      "source": [
        "# **Task 4**\n",
        "### **Reg Id : GO_STP_13238**\n",
        "### **Name : Shubham Rohidas Hundare**"
      ]
    },
    {
      "cell_type": "markdown",
      "metadata": {
        "id": "hf3Px4l5VsI7"
      },
      "source": [
        "**1)Import the numpy package under the name np and Print the numpy version and the configuration**"
      ]
    },
    {
      "cell_type": "code",
      "metadata": {
        "colab": {
          "base_uri": "https://localhost:8080/",
          "height": 36
        },
        "id": "9ZNnRB4TV4Eu",
        "outputId": "73077a84-2a5d-499c-a2e0-c9daa481ef9f"
      },
      "source": [
        "import numpy as np\n",
        "np.__version__"
      ],
      "execution_count": null,
      "outputs": [
        {
          "output_type": "execute_result",
          "data": {
            "application/vnd.google.colaboratory.intrinsic+json": {
              "type": "string"
            },
            "text/plain": [
              "'1.19.5'"
            ]
          },
          "metadata": {
            "tags": []
          },
          "execution_count": 3
        }
      ]
    },
    {
      "cell_type": "markdown",
      "metadata": {
        "id": "KkMp_J-bWTSZ"
      },
      "source": [
        "**2) Create a null vector of size 10**"
      ]
    },
    {
      "cell_type": "code",
      "metadata": {
        "colab": {
          "base_uri": "https://localhost:8080/"
        },
        "id": "8RCHCT6aWbPU",
        "outputId": "ebfc9431-0ae5-4ff0-e074-cab31ae95a12"
      },
      "source": [
        "a = np.zeros(10)\n",
        "print(a)\n"
      ],
      "execution_count": null,
      "outputs": [
        {
          "output_type": "stream",
          "text": [
            "[0. 0. 0. 0. 0. 0. 0. 0. 0. 0.]\n"
          ],
          "name": "stdout"
        }
      ]
    },
    {
      "cell_type": "markdown",
      "metadata": {
        "id": "EHt7QW7VXIOa"
      },
      "source": [
        "**3) Create Simple 1-D array and check type and check data types in array**"
      ]
    },
    {
      "cell_type": "code",
      "metadata": {
        "colab": {
          "base_uri": "https://localhost:8080/"
        },
        "id": "Za1soKvgXRbQ",
        "outputId": "7c63fd20-c61e-4415-f9bb-ca8ec5fb2cc7"
      },
      "source": [
        "a = np.array([10,2,30,40,50])\n",
        "print(a)\n",
        "print(type(a))\n",
        "print(a.dtype)"
      ],
      "execution_count": null,
      "outputs": [
        {
          "output_type": "stream",
          "text": [
            "[10  2 30 40 50]\n",
            "<class 'numpy.ndarray'>\n",
            "int64\n"
          ],
          "name": "stdout"
        }
      ]
    },
    {
      "cell_type": "markdown",
      "metadata": {
        "id": "jqzA_XauX6s6"
      },
      "source": [
        "**4) How to find number of dimensions, bytes per element and bytes of memory used?**"
      ]
    },
    {
      "cell_type": "code",
      "metadata": {
        "colab": {
          "base_uri": "https://localhost:8080/"
        },
        "id": "2MhTjG4BYC-4",
        "outputId": "58b5b07f-b587-4be7-a0e2-4b7ff4bd1caf"
      },
      "source": [
        "a = np.array([[1,2,3],[4,5,6],[7,8,9]])\n",
        "print(a)\n",
        "print(\"Dimension \",a.ndim)\n",
        "print(\"Size \",a.size)\n",
        "print(\"bytes \",a.itemsize)\n",
        "print(\"Memory used \",a.size*a.itemsize)"
      ],
      "execution_count": null,
      "outputs": [
        {
          "output_type": "stream",
          "text": [
            "[[1 2 3]\n",
            " [4 5 6]\n",
            " [7 8 9]]\n",
            "Dimension  2\n",
            "Size  9\n",
            "bytes  8\n",
            "Memory used  72\n"
          ],
          "name": "stdout"
        }
      ]
    },
    {
      "cell_type": "markdown",
      "metadata": {
        "id": "StJALrQwZifs"
      },
      "source": [
        "**5) Create a null vector of size 10 but the fifth value which is 1**"
      ]
    },
    {
      "cell_type": "code",
      "metadata": {
        "colab": {
          "base_uri": "https://localhost:8080/"
        },
        "id": "c0TxRRyyZsmf",
        "outputId": "20fbef3a-69b5-4de1-81e6-3a03fccd3ee6"
      },
      "source": [
        "n = np.zeros(10)\n",
        "n[5]=1\n",
        "print(n)"
      ],
      "execution_count": null,
      "outputs": [
        {
          "output_type": "stream",
          "text": [
            "[0. 0. 0. 0. 0. 1. 0. 0. 0. 0.]\n"
          ],
          "name": "stdout"
        }
      ]
    },
    {
      "cell_type": "markdown",
      "metadata": {
        "id": "aJMlEprnZ_ai"
      },
      "source": [
        "**6) Create a vector with values ranging from 10 to 49**"
      ]
    },
    {
      "cell_type": "code",
      "metadata": {
        "colab": {
          "base_uri": "https://localhost:8080/"
        },
        "id": "2ojDauY9aJ6f",
        "outputId": "8689f9d2-12d0-492d-f7ee-e1c5beebbd97"
      },
      "source": [
        "a = np.arange(10,49)\n",
        "print(a)\n"
      ],
      "execution_count": null,
      "outputs": [
        {
          "output_type": "stream",
          "text": [
            "[10 11 12 13 14 15 16 17 18 19 20 21 22 23 24 25 26 27 28 29 30 31 32 33\n",
            " 34 35 36 37 38 39 40 41 42 43 44 45 46 47 48]\n"
          ],
          "name": "stdout"
        }
      ]
    },
    {
      "cell_type": "markdown",
      "metadata": {
        "id": "6g-YZRtDbAfz"
      },
      "source": [
        "**7) Reverse a vector (first element becomes last)**"
      ]
    },
    {
      "cell_type": "code",
      "metadata": {
        "colab": {
          "base_uri": "https://localhost:8080/"
        },
        "id": "b_1JGtZPbF7t",
        "outputId": "f86655cf-f016-4351-aaab-28788ed899ff"
      },
      "source": [
        "b = np.arange(1,10)\n",
        "print(\"Given Array \",b)\n",
        "print(\"Reversed array \",b[::-1])"
      ],
      "execution_count": null,
      "outputs": [
        {
          "output_type": "stream",
          "text": [
            "Given Array  [1 2 3 4 5 6 7 8 9]\n",
            "Reversed array  [9 8 7 6 5 4 3 2 1]\n"
          ],
          "name": "stdout"
        }
      ]
    },
    {
      "cell_type": "markdown",
      "metadata": {
        "id": "cKDfgatWb0_T"
      },
      "source": [
        "**8) Create a 3x3 matrix with values ranging from 0 to 8**"
      ]
    },
    {
      "cell_type": "code",
      "metadata": {
        "colab": {
          "base_uri": "https://localhost:8080/"
        },
        "id": "-7MkJDmpb_H1",
        "outputId": "24e79734-9be9-4a8a-ec0e-d8e2cc6a2070"
      },
      "source": [
        "c = np.array([[0,1,2],[3,4,5],[6,7,8]])\n",
        "print(c)"
      ],
      "execution_count": null,
      "outputs": [
        {
          "output_type": "stream",
          "text": [
            "[[0 1 2]\n",
            " [3 4 5]\n",
            " [6 7 8]]\n"
          ],
          "name": "stdout"
        }
      ]
    },
    {
      "cell_type": "markdown",
      "metadata": {
        "id": "oxadC3D1cazK"
      },
      "source": [
        "**9) Find indices of non-zero elements from [1,2,0,0,4,0]**"
      ]
    },
    {
      "cell_type": "code",
      "metadata": {
        "colab": {
          "base_uri": "https://localhost:8080/"
        },
        "id": "NpvqbMDKc5gs",
        "outputId": "0401a9fb-c3a3-4e46-be95-30a7b84b79e2"
      },
      "source": [
        "d = np.array([1,2,0,0,4,0])\n",
        "\n",
        "print(np.nonzero(d))"
      ],
      "execution_count": null,
      "outputs": [
        {
          "output_type": "stream",
          "text": [
            "(array([0, 1, 4]),)\n"
          ],
          "name": "stdout"
        }
      ]
    },
    {
      "cell_type": "markdown",
      "metadata": {
        "id": "UnEEleRbeAkz"
      },
      "source": [
        "**10) Create a 3x3 identity matrix**"
      ]
    },
    {
      "cell_type": "code",
      "metadata": {
        "colab": {
          "base_uri": "https://localhost:8080/"
        },
        "id": "tdYy0weHeJiG",
        "outputId": "f3f4343d-7ca7-4ec8-d49e-c73c56efc967"
      },
      "source": [
        "e = np.identity(3)\n",
        "print(e)"
      ],
      "execution_count": null,
      "outputs": [
        {
          "output_type": "stream",
          "text": [
            "[[1. 0. 0.]\n",
            " [0. 1. 0.]\n",
            " [0. 0. 1.]]\n"
          ],
          "name": "stdout"
        }
      ]
    },
    {
      "cell_type": "markdown",
      "metadata": {
        "id": "kFUvL8_Fe5f_"
      },
      "source": [
        "**11) Create a 3x3x3 array with random values**"
      ]
    },
    {
      "cell_type": "code",
      "metadata": {
        "colab": {
          "base_uri": "https://localhost:8080/"
        },
        "id": "W9TLehxHe9nO",
        "outputId": "105efcb5-e9be-4a6c-dc77-011b3b6c1092"
      },
      "source": [
        "f = np.random.random((3,3,3))\n",
        "print(f)"
      ],
      "execution_count": null,
      "outputs": [
        {
          "output_type": "stream",
          "text": [
            "[[[0.28417128 0.91985439 0.17237441]\n",
            "  [0.99829568 0.17129342 0.53201083]\n",
            "  [0.35868922 0.34059025 0.07458405]]\n",
            "\n",
            " [[0.01118914 0.16233975 0.82718226]\n",
            "  [0.27075189 0.27544081 0.01541877]\n",
            "  [0.8473428  0.30587935 0.7227743 ]]\n",
            "\n",
            " [[0.84095011 0.5623952  0.2035345 ]\n",
            "  [0.56794578 0.62438653 0.18374062]\n",
            "  [0.92139987 0.20877262 0.65840479]]]\n"
          ],
          "name": "stdout"
        }
      ]
    },
    {
      "cell_type": "markdown",
      "metadata": {
        "id": "4N11WVPXfdY2"
      },
      "source": [
        "**12)Create a 10x10 array with random values and find the minimum and maximum values**"
      ]
    },
    {
      "cell_type": "code",
      "metadata": {
        "colab": {
          "base_uri": "https://localhost:8080/"
        },
        "id": "H9wQSRO7foXJ",
        "outputId": "05b05a88-0e2d-4493-dd88-068cca4d4370"
      },
      "source": [
        "g = np.random.random((3,3,3))\n",
        "print(g)\n",
        "print(\"Maximum :\",np.max(g))\n",
        "print(\"Minimum :\",np.min(g))"
      ],
      "execution_count": null,
      "outputs": [
        {
          "output_type": "stream",
          "text": [
            "[[[0.19077278 0.27649658 0.76226178]\n",
            "  [0.68677134 0.73103017 0.22184727]\n",
            "  [0.87702799 0.36893623 0.59313451]]\n",
            "\n",
            " [[0.6707883  0.55847495 0.6412658 ]\n",
            "  [0.83473759 0.92483021 0.18588303]\n",
            "  [0.30010775 0.59234004 0.38255892]]\n",
            "\n",
            " [[0.4800813  0.47053166 0.93145158]\n",
            "  [0.38308172 0.57068918 0.87530499]\n",
            "  [0.65048027 0.372843   0.99300724]]]\n",
            "Maximum : 0.9930072398721594\n",
            "Minimum : 0.1858830327719161\n"
          ],
          "name": "stdout"
        }
      ]
    },
    {
      "cell_type": "markdown",
      "metadata": {
        "id": "MwH0v0MxgJBl"
      },
      "source": [
        "**13) Create a random vector of size 30 and find the mean value**"
      ]
    },
    {
      "cell_type": "code",
      "metadata": {
        "colab": {
          "base_uri": "https://localhost:8080/"
        },
        "id": "bhvo3k2vgR5e",
        "outputId": "35a926a2-4de9-4bb1-c684-409e83881d06"
      },
      "source": [
        "h = np.random.random(30)\n",
        "print(np.mean(h))"
      ],
      "execution_count": null,
      "outputs": [
        {
          "output_type": "stream",
          "text": [
            "0.5214810283991702\n"
          ],
          "name": "stdout"
        }
      ]
    },
    {
      "cell_type": "markdown",
      "metadata": {
        "id": "lJfqtr0CmPq4"
      },
      "source": [
        "**14) Create a 2d array with 1 on the border and 0 inside**"
      ]
    },
    {
      "cell_type": "code",
      "metadata": {
        "colab": {
          "base_uri": "https://localhost:8080/"
        },
        "id": "65JrM_WumX7B",
        "outputId": "07175ea2-5386-48dd-d6fb-154e5a3fb22d"
      },
      "source": [
        "i = np.ones((4,4))\n",
        "print(i)\n",
        "i[1:-1,1:-1]=0\n",
        "print(\"\\n\")\n",
        "print(i)"
      ],
      "execution_count": null,
      "outputs": [
        {
          "output_type": "stream",
          "text": [
            "[[1. 1. 1. 1.]\n",
            " [1. 1. 1. 1.]\n",
            " [1. 1. 1. 1.]\n",
            " [1. 1. 1. 1.]]\n",
            "\n",
            "\n",
            "[[1. 1. 1. 1.]\n",
            " [1. 0. 0. 1.]\n",
            " [1. 0. 0. 1.]\n",
            " [1. 1. 1. 1.]]\n"
          ],
          "name": "stdout"
        }
      ]
    },
    {
      "cell_type": "markdown",
      "metadata": {
        "id": "nXEbjOCnoRkE"
      },
      "source": [
        "**15) How to add a border (filled with 0's) around an existing array?**"
      ]
    },
    {
      "cell_type": "code",
      "metadata": {
        "colab": {
          "base_uri": "https://localhost:8080/"
        },
        "id": "I6dS5p5-oa0E",
        "outputId": "edf1952b-b65d-4d8b-b510-ec2da7d5b0b2"
      },
      "source": [
        "print(\"Before :\")\n",
        "j = np.zeros((2,2))\n",
        "print(j)\n",
        "print(\"After :\")\n",
        "j=np.pad(j, pad_width=1, constant_values = 1)\n",
        "print(j)"
      ],
      "execution_count": null,
      "outputs": [
        {
          "output_type": "stream",
          "text": [
            "Before :\n",
            "[[0. 0.]\n",
            " [0. 0.]]\n",
            "After :\n",
            "[[1. 1. 1. 1.]\n",
            " [1. 0. 0. 1.]\n",
            " [1. 0. 0. 1.]\n",
            " [1. 1. 1. 1.]]\n"
          ],
          "name": "stdout"
        }
      ]
    },
    {
      "cell_type": "markdown",
      "metadata": {
        "id": "24nUb72uqlDR"
      },
      "source": [
        "**16) How to Accessing/Changing specific elements, rows, columns, etc in Numpy array?**\n",
        "\n",
        "Example -\n",
        "[[ 1 2 3 4 5 6 7] [ 8 9 10 11 12 13 14]]\n",
        "\n",
        "Get 13, get first row only, get 3rd column only, get [2, 4, 6], replace 13 by 20"
      ]
    },
    {
      "cell_type": "code",
      "metadata": {
        "colab": {
          "base_uri": "https://localhost:8080/"
        },
        "id": "_jFtXFiMq2OH",
        "outputId": "da61a9bb-31b5-4ff0-a05d-94b4700925ce"
      },
      "source": [
        "k = np.array([[1,2,3,4,5,6,7],[8,9,10,11,12,13,14]])\n",
        "print(k)\n",
        "print(k[1,5])\n",
        "print(k[:,2:-4])\n",
        "print(k[:2:,:])"
      ],
      "execution_count": null,
      "outputs": [
        {
          "output_type": "stream",
          "text": [
            "[[ 1  2  3  4  5  6  7]\n",
            " [ 8  9 10 11 12 13 14]]\n",
            "13\n",
            "[[ 3]\n",
            " [10]]\n",
            "[[ 1  2  3  4  5  6  7]\n",
            " [ 8  9 10 11 12 13 14]]\n"
          ],
          "name": "stdout"
        }
      ]
    },
    {
      "cell_type": "markdown",
      "metadata": {
        "id": "C6tRJhBHtHYJ"
      },
      "source": [
        "**17) How to Convert a 1D array to a 2D array with 2 rows**"
      ]
    },
    {
      "cell_type": "code",
      "metadata": {
        "colab": {
          "base_uri": "https://localhost:8080/"
        },
        "id": "u4BanmiAtbgF",
        "outputId": "436c80d3-5c2f-4676-b3cb-4d9ee47c8286"
      },
      "source": [
        "l = np.array([1,2,3,4,5,6])\n",
        "print(\"One Dimensional Array :\")\n",
        "print(l)\n",
        "print(\"Two Dimensional Array :\")\n",
        "l.resize(2,3)\n",
        "print(l)"
      ],
      "execution_count": null,
      "outputs": [
        {
          "output_type": "stream",
          "text": [
            "One Dimensional Array :\n",
            "[1 2 3 4 5 6]\n",
            "Two Dimensional Array :\n",
            "[[1 2 3]\n",
            " [4 5 6]]\n"
          ],
          "name": "stdout"
        }
      ]
    },
    {
      "cell_type": "markdown",
      "metadata": {
        "id": "L2_bnP-et8LP"
      },
      "source": [
        "**18) Create the following pattern without hardcoding. Use only numpy functions and the below input array a.**\n",
        "\n",
        "Input:\n",
        "\n",
        "a = np.array([1,2,3])`\n",
        "\n",
        "Desired Output:\n",
        "\n",
        "array([1, 1, 1, 2, 2, 2, 3, 3, 3, 1, 2, 3, 1, 2, 3, 1, 2, 3])"
      ]
    },
    {
      "cell_type": "code",
      "metadata": {
        "colab": {
          "base_uri": "https://localhost:8080/"
        },
        "id": "vqi4-ko1uYr2",
        "outputId": "fb3fde66-b75c-4c27-9c07-640438b4f036"
      },
      "source": [
        "m = np.array([1,2,3])\n",
        "print(m)\n",
        "\n",
        "m = np.append(np.repeat(m,3),np.tile(m,3))\n",
        "print(m)"
      ],
      "execution_count": null,
      "outputs": [
        {
          "output_type": "stream",
          "text": [
            "[1 2 3]\n",
            "[1 1 1 2 2 2 3 3 3 1 2 3 1 2 3 1 2 3]\n"
          ],
          "name": "stdout"
        }
      ]
    },
    {
      "cell_type": "markdown",
      "metadata": {
        "id": "JVHzv7ufzEK0"
      },
      "source": [
        "**19) Write a program to show how Numpy taking less memory compared to Python List?**"
      ]
    },
    {
      "cell_type": "code",
      "metadata": {
        "colab": {
          "base_uri": "https://localhost:8080/"
        },
        "id": "GZXtWukWzGXA",
        "outputId": "9ba8870b-c966-4d0c-c2f6-4c71558a8594"
      },
      "source": [
        "import sys\n",
        "list1 = range(100)\n",
        "print(\"Size of each element is :\",sys.getsizeof(list1))\n",
        "print(\"Whole size of list is :\", sys.getsizeof(list1)*len(list1))\n",
        "\n",
        "list2 = np.arange(1000)\n",
        "print(\"Size of each element is :\",list2.itemsize)\n",
        "print(\"Whole size of list is :\", list2.itemsize*list2.size)"
      ],
      "execution_count": null,
      "outputs": [
        {
          "output_type": "stream",
          "text": [
            "Size of each element is : 48\n",
            "Whole size of list is : 4800\n",
            "Size of each element is : 8\n",
            "Whole size of list is : 8000\n"
          ],
          "name": "stdout"
        }
      ]
    },
    {
      "cell_type": "markdown",
      "metadata": {
        "id": "6BBQh65u1Yuy"
      },
      "source": [
        "**20) Write a program to show how Numpy taking less time compared to Python List?**"
      ]
    },
    {
      "cell_type": "code",
      "metadata": {
        "colab": {
          "base_uri": "https://localhost:8080/"
        },
        "id": "57FghWra1jJI",
        "outputId": "ab044679-6b57-42f7-979e-dc4cb30dd130"
      },
      "source": [
        "import time\n",
        "\n",
        "size = 1000000\n",
        "\n",
        "list1 = range(size)\n",
        "list2 = range(size)\n",
        "array1 = np.arange(size)\n",
        "array2 = np.arange(size)\n",
        "\n",
        "#list\n",
        "initial_time = time.time()\n",
        "res1 = [(a*b) for a,b in zip(list1,list2)]\n",
        "print(\"Time taken for multiplication : \",(time.time()-initial_time))\n",
        "\n",
        "#numpy\n",
        "initial_time = time.time()\n",
        "res2 = array1*array2\n",
        "print(\"Time taken for multiplication :\",(time.time()-initial_time))"
      ],
      "execution_count": null,
      "outputs": [
        {
          "output_type": "stream",
          "text": [
            "Time taken for multiplication :  0.15459513664245605\n",
            "Time taken for multiplication : 0.0029931068420410156\n"
          ],
          "name": "stdout"
        }
      ]
    }
  ]
}