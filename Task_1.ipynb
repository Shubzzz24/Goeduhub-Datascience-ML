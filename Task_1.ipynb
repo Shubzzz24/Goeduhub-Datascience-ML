{
  "nbformat": 4,
  "nbformat_minor": 0,
  "metadata": {
    "colab": {
      "name": "Task 1",
      "provenance": [],
      "collapsed_sections": [],
      "authorship_tag": "ABX9TyPoOjtv681VrXD3A6L8fcWN",
      "include_colab_link": true
    },
    "kernelspec": {
      "name": "python3",
      "display_name": "Python 3"
    },
    "language_info": {
      "name": "python"
    }
  },
  "cells": [
    {
      "cell_type": "markdown",
      "metadata": {
        "id": "view-in-github",
        "colab_type": "text"
      },
      "source": [
        "<a href=\"https://colab.research.google.com/github/Shubzzz24/Goeduhub-Datascience-ML/blob/main/Task_1.ipynb\" target=\"_parent\"><img src=\"https://colab.research.google.com/assets/colab-badge.svg\" alt=\"Open In Colab\"/></a>"
      ]
    },
    {
      "cell_type": "markdown",
      "metadata": {
        "id": "JClHlcZKWgxW"
      },
      "source": [
        "**GO_STP_13238**\n",
        "\n",
        "**NAME - Shubham Rohidas Hundare**\n",
        "\n",
        "**Assignment No - 1** "
      ]
    },
    {
      "cell_type": "markdown",
      "metadata": {
        "id": "83j82r0bVWN-"
      },
      "source": [
        "1. We are having 3 list like this\n",
        "\n",
        "Colors = [“Yellow”,”Green”,”White”,”Black”]\n",
        "\n",
        "Fruits=[“Apple”,”Papaya”,”Mango”,”Orange”]\n",
        "\n",
        "Animals=[“Tiger”,”Lion”,”Deer”,”Zebra”]\n",
        "\n",
        "  i. Write a program that asks user to enter a Color/Fruit/Animal name and it should tell which category belongs to , like its is a fruit or color or Animal\n",
        "\n",
        "ii. Write a program that asks user to enter two items and it tells you if they both are in same category or not. For example if I enter yellow and Black, it will print \"Both are colors\" but if I enter yellow and Tiger it should print \"They don't belong to same category\""
      ]
    },
    {
      "cell_type": "code",
      "metadata": {
        "colab": {
          "base_uri": "https://localhost:8080/"
        },
        "id": "wTvN6nGaVi_D",
        "outputId": "93f16d21-37ff-49fa-d578-4a2422e5783c"
      },
      "source": [
        "Colors = ['Yellow','Green','White','Black']\n",
        "\n",
        "Fruits=['Apple','Papaya','Mango','Orange']\n",
        "\n",
        "Animals=['Tiger','Lion','Deer','Zebra']\n",
        "\n",
        "n = input(\"Enter color, fruit or animal name : \")\n",
        "\n",
        "if n in Colors:\n",
        "\n",
        "    print(n,\"is a Color\")\n",
        "\n",
        "elif n in Fruits:\n",
        "\n",
        "    print(n,\"is a Fruit\")\n",
        "\n",
        "elif n in Animals:\n",
        "\n",
        "    print(n,\"is an Animal\")\n",
        "    "
      ],
      "execution_count": null,
      "outputs": [
        {
          "output_type": "stream",
          "text": [
            "Enter color, fruit or animal name : Yellow\n",
            "Yellow is a Color\n"
          ],
          "name": "stdout"
        }
      ]
    },
    {
      "cell_type": "code",
      "metadata": {
        "colab": {
          "base_uri": "https://localhost:8080/"
        },
        "id": "4SZ2IfMaX0FV",
        "outputId": "816bf1dd-e9d0-4296-b87c-e25c97d5c9cd"
      },
      "source": [
        "\n",
        "m = input(\"Enter a name :\")\n",
        "\n",
        "n = input(\"Enter a name :\")\n",
        "\n",
        "if m in Colors and n in Colors:\n",
        "\n",
        "   print(\"Both are Colors\")\n",
        "\n",
        "elif m in Fruits and n in Fruits:\n",
        "\n",
        "   print(\"Both are Fruits\")\n",
        "\n",
        "elif m in Animals and n in Animals:\n",
        "\n",
        "   print(\"Both are Animals\")\n",
        "\n",
        "else:\n",
        "\n",
        "   print(\"They don't belong to same category\")"
      ],
      "execution_count": null,
      "outputs": [
        {
          "output_type": "stream",
          "text": [
            "Enter a name :Tiger\n",
            "Enter a name :Lion\n",
            "Both are Animals\n"
          ],
          "name": "stdout"
        }
      ]
    },
    {
      "cell_type": "markdown",
      "metadata": {
        "id": "o_eRMw3-YCkH"
      },
      "source": [
        "2.  Write a python program that can tell you if your grade score good or not . Normal Score range is 40 to 60.\n",
        "\n",
        "  i. Ask user to enter his score.\n",
        "\n",
        "  ii. If it is below 40 to 60 range then print that score is low\n",
        "\n",
        "  iii. If it is above 60 then print that it is good otherwise print that it is normal"
      ]
    },
    {
      "cell_type": "markdown",
      "metadata": {
        "id": "O4STdk06YC1O"
      },
      "source": [
        ""
      ]
    },
    {
      "cell_type": "code",
      "metadata": {
        "colab": {
          "base_uri": "https://localhost:8080/"
        },
        "id": "HC_hpBiVYITl",
        "outputId": "9e599fb8-522d-4ecd-ed0a-6741f6f5a2a1"
      },
      "source": [
        "score=float(input(\"Enter your score: \"))\n",
        "\n",
        "if score > 60:\n",
        "\n",
        "    print(f\"{score} is good mark\")\n",
        "\n",
        "elif score < 40:\n",
        "\n",
        "    print(f\"{score} is low mark\")\n",
        "\n",
        "else:\n",
        "\n",
        "    print(f\"{score} is normal mark\")"
      ],
      "execution_count": null,
      "outputs": [
        {
          "output_type": "stream",
          "text": [
            "Enter your score: 50\n",
            "50.0 is normal mark\n"
          ],
          "name": "stdout"
        }
      ]
    },
    {
      "cell_type": "markdown",
      "metadata": {
        "id": "D35xHOxOZqbP"
      },
      "source": [
        "3.  After appearing in exam 10 times you got this result,\n",
        "\n",
        "result = [\"Pass\",\"Fail\",\"Fail\",\"Pass\",\"Fail\",\"Pass\",\"Pass\",\"Fail\",\"Fail\",\"Fail\"]\n",
        "\n",
        "Using for loop figure out how many times you got Pass\n"
      ]
    },
    {
      "cell_type": "code",
      "metadata": {
        "colab": {
          "base_uri": "https://localhost:8080/"
        },
        "id": "VU7HW2-hcP1Z",
        "outputId": "7933a619-d343-4966-f60d-af999b8828d8"
      },
      "source": [
        "result = [\"Pass\",\"Fail\",\"Fail\",\"Pass\",\"Fail\",\"Pass\",\"Pass\",\"Fail\",\"Fail\",\"Fail\"] \n",
        "\n",
        "count = 0\n",
        "\n",
        "for i in result:\n",
        "\n",
        "\n",
        "  if i == \"Pass\":\n",
        "\n",
        "    count += 1\n",
        "\n",
        "print(f'You passed {count} times') "
      ],
      "execution_count": null,
      "outputs": [
        {
          "output_type": "stream",
          "text": [
            "You passed 4 times\n"
          ],
          "name": "stdout"
        }
      ]
    },
    {
      "cell_type": "markdown",
      "metadata": {
        "id": "GA3hU0Klmt85"
      },
      "source": [
        "4.  Write a program that prints following shape\n"
      ]
    },
    {
      "cell_type": "code",
      "metadata": {
        "colab": {
          "base_uri": "https://localhost:8080/"
        },
        "id": "NNrjZyYPfCRU",
        "outputId": "7c7a1651-3324-4b77-ff57-90a385282a94"
      },
      "source": [
        "rows = 5\n",
        "\n",
        "for i in range(0,rows):\n",
        "\n",
        "    for j in range(0,i+1):\n",
        "\n",
        "        print(\"*\",end = \" \")\n",
        "\n",
        "    print(\" \")\n",
        "\n",
        "for i in range(rows+1,0,-1):\n",
        "\n",
        "    for j in range(1,i-1):\n",
        "\n",
        "        print(\"*\",end = \" \")\n",
        "\n",
        "    print(\" \")"
      ],
      "execution_count": null,
      "outputs": [
        {
          "output_type": "stream",
          "text": [
            "*  \n",
            "* *  \n",
            "* * *  \n",
            "* * * *  \n",
            "* * * * *  \n",
            "* * * *  \n",
            "* * *  \n",
            "* *  \n",
            "*  \n",
            " \n",
            " \n"
          ],
          "name": "stdout"
        }
      ]
    },
    {
      "cell_type": "markdown",
      "metadata": {
        "id": "36fdZ4pygUUb"
      },
      "source": [
        "5.   Lets say you are running a 50 km race. Write a program that,\n",
        "\n",
        "    Upon completing each 10 km asks you \"are you tired?\"\n",
        "    If you reply \"yes\" then it should break and print \"you didn't finish the race\"\n",
        "     If you reply \"no\" then it should continue and ask \"are you tired\" on every km\n",
        "    If you finish all 50 km then it should print congratulations message"
      ]
    },
    {
      "cell_type": "code",
      "metadata": {
        "id": "OP87ekPngaPU",
        "colab": {
          "base_uri": "https://localhost:8080/"
        },
        "outputId": "2f987985-94c4-4f66-cf3c-2ab848437a35"
      },
      "source": [
        "distance = 50\n",
        "for i in range(10,distance+1,10):\n",
        "  print(\"Are you tierd\")\n",
        "  S = input()\n",
        "  if S == \"Yes\":\n",
        "    print(\"you didn't finished the race\")\n",
        "    break\n",
        "  if i == 50:\n",
        "    print(\"congrats\")"
      ],
      "execution_count": null,
      "outputs": [
        {
          "output_type": "stream",
          "text": [
            "Are you tierd\n"
          ],
          "name": "stdout"
        }
      ]
    },
    {
      "cell_type": "markdown",
      "metadata": {
        "id": "IawmblorhXDU"
      },
      "source": [
        "6.  Write a Python program to find those numbers which are divisible by 7 and multiple of 5, between 1500 and 2700 (both included)."
      ]
    },
    {
      "cell_type": "code",
      "metadata": {
        "id": "4Gdo0QwOhdjl"
      },
      "source": [
        "for i in range(1500,2701):\n",
        "  if i%7 == 0 and i%5 == 0:\n",
        "     print(i)"
      ],
      "execution_count": null,
      "outputs": []
    },
    {
      "cell_type": "markdown",
      "metadata": {
        "id": "qR_Q_6nYhoAA"
      },
      "source": [
        "7.   Print square of all numbers between 10 to 20 except even numbers"
      ]
    },
    {
      "cell_type": "code",
      "metadata": {
        "id": "SsofS42JiJEG"
      },
      "source": [
        "for i in range(10,21):\n",
        "  if i % 2 == 0:\n",
        "    continue\n",
        "  print(i*i)"
      ],
      "execution_count": null,
      "outputs": []
    },
    {
      "cell_type": "markdown",
      "metadata": {
        "id": "_03Ik39cieXO"
      },
      "source": [
        "8.  Your Marks for five Test(test1 to test5) looks like this,\n",
        "\n",
        "marks_list = [65, 75, 2100, 95, 83]\n",
        "\n",
        "Write a program that asks you to enter marks and program should tell you in which test that marks occurred. If marks is not found then it should print that as well."
      ]
    },
    {
      "cell_type": "code",
      "metadata": {
        "id": "6ewXDKQFioxx"
      },
      "source": [
        "n = int(input(\"Enter marks :\"))\n",
        "\n",
        "if n not in marks_list :\n",
        "\n",
        "    print(\"Marks not in list\")\n",
        "\n",
        "else:\n",
        "\n",
        "    for x in marks_list:\n",
        "\n",
        "        if x == n:\n",
        "\n",
        "            print(\"You got\",n,\"marks in\",\"test\",x)"
      ],
      "execution_count": null,
      "outputs": []
    }
  ]
}