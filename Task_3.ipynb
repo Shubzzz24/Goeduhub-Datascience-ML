{
  "nbformat": 4,
  "nbformat_minor": 0,
  "metadata": {
    "colab": {
      "name": "Task 3.ipynb",
      "provenance": [],
      "collapsed_sections": [],
      "authorship_tag": "ABX9TyMYN6/qxXfpMms9UtQhsWTv",
      "include_colab_link": true
    },
    "kernelspec": {
      "name": "python3",
      "display_name": "Python 3"
    },
    "language_info": {
      "name": "python"
    }
  },
  "cells": [
    {
      "cell_type": "markdown",
      "metadata": {
        "id": "view-in-github",
        "colab_type": "text"
      },
      "source": [
        "<a href=\"https://colab.research.google.com/github/Shubzzz24/Goeduhub-Datascience-ML/blob/main/Task_3.ipynb\" target=\"_parent\"><img src=\"https://colab.research.google.com/assets/colab-badge.svg\" alt=\"Open In Colab\"/></a>"
      ]
    },
    {
      "cell_type": "markdown",
      "metadata": {
        "id": "07FK3NhEMRFp"
      },
      "source": [
        "# **Task 3**\n",
        "## **REG ID : GO_STP_13238** \n",
        "## **NAME : Shubham Rohidas Hundare**"
      ]
    },
    {
      "cell_type": "markdown",
      "metadata": {
        "id": "Oj7pMkJhN-1E"
      },
      "source": [
        "**Q.1 Write a Python Program to sort (ascending and descending) a dictionary by value.**"
      ]
    },
    {
      "cell_type": "code",
      "metadata": {
        "colab": {
          "base_uri": "https://localhost:8080/"
        },
        "id": "56nNJ4r3OImR",
        "outputId": "46f87124-8206-45e1-ed00-057f3a33965d"
      },
      "source": [
        "import operator\n",
        "d = {4:'e',2:'b',3:'a',5:'d',0:'c'}\n",
        "print(\"Given Dictionary :\",d)\n",
        "a = dict(sorted(d.items(),key=operator.itemgetter(1)))\n",
        "print(\"Dictionary in ascending order : \",a)\n",
        "\n",
        "b = dict(sorted(d.items(),key=operator.itemgetter(1),reverse=True))\n",
        "print(\"Dictionary in descending order : \",b)\n"
      ],
      "execution_count": null,
      "outputs": [
        {
          "output_type": "stream",
          "text": [
            "Given Dictionary : {4: 'e', 2: 'b', 3: 'a', 5: 'd', 0: 'c'}\n",
            "Dictionary in ascending order :  {3: 'a', 2: 'b', 0: 'c', 5: 'd', 4: 'e'}\n",
            "Dictionary in descending order :  {4: 'e', 5: 'd', 0: 'c', 2: 'b', 3: 'a'}\n"
          ],
          "name": "stdout"
        }
      ]
    },
    {
      "cell_type": "markdown",
      "metadata": {
        "id": "oVZd8dSv2Sec"
      },
      "source": [
        "**Q.2 Write a Python Program to add a key to a dictionary.**\n",
        "\n",
        "Sample Dictionary : {0: 10, 1: 20}\n",
        "Expected Result : {0: 10, 1: 20, 2: 30}"
      ]
    },
    {
      "cell_type": "code",
      "metadata": {
        "colab": {
          "base_uri": "https://localhost:8080/"
        },
        "id": "AOmwDqyY2YGr",
        "outputId": "7df407b6-2e97-4df7-e799-051a83e6e583"
      },
      "source": [
        "d = {0:10,1:20}\n",
        "print(\"Given Dictionary :\",d)\n",
        "\n",
        "d[2]=30\n",
        "print(\"After adding key :\",d)"
      ],
      "execution_count": null,
      "outputs": [
        {
          "output_type": "stream",
          "text": [
            "Given Dictionary : {0: 10, 1: 20}\n",
            "After adding key : {0: 10, 1: 20, 2: 30}\n"
          ],
          "name": "stdout"
        }
      ]
    },
    {
      "cell_type": "markdown",
      "metadata": {
        "id": "JJ2as2ZAGwHD"
      },
      "source": [
        "**Q.3 Write a  program asks for City name and Temperature and builds a dictionary using that Later on you can input City name and it will tell you the Temperature of that City.**"
      ]
    },
    {
      "cell_type": "code",
      "metadata": {
        "colab": {
          "base_uri": "https://localhost:8080/"
        },
        "id": "QBoKvPRwG9Ua",
        "outputId": "94ba440b-b376-4a0c-8e2f-e266ef7565a0"
      },
      "source": [
        "data = {}\n",
        "n = int(input(\"Enter no of records want to insert \"))\n",
        "for i in range(0,n):\n",
        "  a = input(\"Enter a City Name \")\n",
        "  b = int(input(\"Enter  a Temperature \"))\n",
        "  data[a]=b\n",
        "print(data)\n",
        "\n",
        "c = input(\"Enter a city \")\n",
        "print(\"Temperature of \",c,\" is \",data.get(c))\n"
      ],
      "execution_count": null,
      "outputs": [
        {
          "output_type": "stream",
          "text": [
            "Enter no of records want to insert 3\n",
            "Enter a City Name Pune\n",
            "Enter  a Temperature 25\n",
            "Enter a City Name Mumbai\n",
            "Enter  a Temperature 30\n",
            "Enter a City Name Nashi\n",
            "Enter  a Temperature 20\n",
            "{'Pune': 25, 'Mumbai': 30, 'Nashi': 20}\n",
            "Enter a city Mumbai\n",
            "Temperature of  Mumbai  is  30\n"
          ],
          "name": "stdout"
        }
      ]
    },
    {
      "cell_type": "markdown",
      "metadata": {
        "id": "RYxk5g1BK1ZX"
      },
      "source": [
        "**Q. 4 Write a Python program to convert list to list of dictionaries.**\n",
        "\n",
        "Sample lists: [\"Black\", \"Red\", \"Maroon\", \"Yellow\"], [\"#000000\", \"#FF0000\", \"#800000\", \"#FFFF00\"]\n",
        "\n",
        "Expected Output: [{'color_name': 'Black', 'color_code': '#000000'}, {'color_name': 'Red', 'color_code': '#FF0000'}, {'color_name': 'Maroon', 'color_code': '#800000'}, {'color_name': 'Yellow', 'color_code': '#FFFF00'}]"
      ]
    },
    {
      "cell_type": "code",
      "metadata": {
        "colab": {
          "base_uri": "https://localhost:8080/"
        },
        "id": "KCydPPbLLBSH",
        "outputId": "f52bd72b-a95e-43e1-8d6e-2bceeb2c888a"
      },
      "source": [
        "color = [\"Black\", \"Red\", \"Maroon\", \"Yellow\"]\n",
        "code = [\"#000000\", \"#FF0000\", \"#800000\", \"#FFFF00\"]\n",
        "color_code = dict(zip(color,code))\n",
        "print(color_code)"
      ],
      "execution_count": null,
      "outputs": [
        {
          "output_type": "stream",
          "text": [
            "{'Black': '#000000', 'Red': '#FF0000', 'Maroon': '#800000', 'Yellow': '#FFFF00'}\n"
          ],
          "name": "stdout"
        }
      ]
    },
    {
      "cell_type": "markdown",
      "metadata": {
        "id": "Mhk0v3_RMAmk"
      },
      "source": [
        "**Q. 5 We have following information on Employees and their Salary (Salary is in lakhs),**\n",
        "Employee\tSalary\n",
        "John\t14\n",
        "Smith\t13\n",
        "Alice\t32\n",
        "Daneil\t21 \n",
        "1) Using above create a dictionary of Employees and their Salary\n",
        "\n",
        "2)Write a program that asks user for three type of inputs,\n",
        "\n",
        "a)print: if user enter print then it should print all Employees with their Salary in this format,\n",
        "        John ==>14\n",
        "        Smith ==>13\n",
        "        Alice ==>32\n",
        "         Daneil ==>21\n",
        "\n",
        "  b)add: if user input adds then it should further ask for an Employee name to add. If Employee already exists in our dataset then it should print that it exists and do nothing. If it doesn't then it asks for Salary and add that new Employee/Salary in our dictionary and print it\n",
        "\n",
        "  c)remove: when user inputs remove it should ask for an Employee to remove. If an Employee exists in our dictionary then remove it and print a new dictionary using format shown above in (a). Else print that Employee doesn't exist\n",
        "\n",
        "  d)query: on this again ask the user for which Employee he or she wants to query. When a user inputs that Employee it will print the Salary of that Employee."
      ]
    },
    {
      "cell_type": "code",
      "metadata": {
        "colab": {
          "base_uri": "https://localhost:8080/"
        },
        "id": "dB7J1347NY7x",
        "outputId": "b3a6899b-b2c3-4390-bb48-2aad14deec3e"
      },
      "source": [
        "employee = {'John':1400000,'Smith':1300000,'Alice':3200000,'Daniel':2100000}\n",
        "\n",
        "option = int(input(\"Enter your option : \\n1.print 2.add 3.remove 4.query\"))\n",
        "\n",
        "if option == 1:\n",
        "  for i in employee:\n",
        "    print(i,\"==>\",employee[i])\n",
        "\n",
        "elif option ==2:\n",
        "  name = input(\"Enter Employee name \")\n",
        "  sal = int(input(\"enter Salary \"))\n",
        "  if name in employee:\n",
        "    print(\"Employee already Exist\")\n",
        "  else:\n",
        "    employee.update({name:sal})\n",
        "  for i in employee:\n",
        "    print(i,\"==>\",employee[i])\n",
        "\n",
        "elif option == 3:\n",
        "  name_rmv = input(\"Enter name to be remove \")\n",
        "  employee.pop(name_rmv)\n",
        "  for i in employee:\n",
        "    print(i,\"==>\",employee[i])\n",
        "\n",
        "elif option == 4:\n",
        "  name = input(\"Enter name of Employee you want to query \")\n",
        "  print(employee.get(name))\n",
        "\n",
        "else:\n",
        "  print(\"Wrong Choice\")"
      ],
      "execution_count": null,
      "outputs": [
        {
          "output_type": "stream",
          "text": [
            "Enter your option : \n",
            "1.print 2.add 3.remove 4.query2\n",
            "Enter Employee name Shubham\n",
            "enter Salary 4000000\n",
            "John ==> 1400000\n",
            "Smith ==> 1300000\n",
            "Alice ==> 3200000\n",
            "Daniel ==> 2100000\n",
            "Shubham ==> 4000000\n"
          ],
          "name": "stdout"
        }
      ]
    },
    {
      "cell_type": "markdown",
      "metadata": {
        "id": "tUdBM6B1TZ3D"
      },
      "source": [
        "# Questions on Sets-\n",
        "\n",
        "**Q.1 What is the difference between a set and a frozenset? Create any set and try to use frozenset(setname).**"
      ]
    },
    {
      "cell_type": "markdown",
      "metadata": {
        "id": "kuzPnbm-T3Ff"
      },
      "source": [
        "Ans : Frozen set is just an immutable version of a Python set object. While elements of a set can be modified at any time, elements of the frozen set remain the same after creation. Due to this, frozen sets can be used as keys in Dictionary or as elements of another set."
      ]
    },
    {
      "cell_type": "code",
      "metadata": {
        "colab": {
          "base_uri": "https://localhost:8080/",
          "height": 225
        },
        "id": "ugROrPaBUJSq",
        "outputId": "b13ba9f8-f666-4c7c-db3d-3a71b7e4f352"
      },
      "source": [
        "name = ('S','H','U','B','H','A','M')\n",
        "fset = frozenset(name)\n",
        "print(\"The Frozen set is \",name)\n",
        "fset.add('H')\n"
      ],
      "execution_count": null,
      "outputs": [
        {
          "output_type": "stream",
          "text": [
            "The Frozen set is  ('S', 'H', 'U', 'B', 'H', 'A', 'M')\n"
          ],
          "name": "stdout"
        },
        {
          "output_type": "error",
          "ename": "AttributeError",
          "evalue": "ignored",
          "traceback": [
            "\u001b[0;31m---------------------------------------------------------------------------\u001b[0m",
            "\u001b[0;31mAttributeError\u001b[0m                            Traceback (most recent call last)",
            "\u001b[0;32m<ipython-input-25-e5819b057343>\u001b[0m in \u001b[0;36m<module>\u001b[0;34m()\u001b[0m\n\u001b[1;32m      2\u001b[0m \u001b[0mfset\u001b[0m \u001b[0;34m=\u001b[0m \u001b[0mfrozenset\u001b[0m\u001b[0;34m(\u001b[0m\u001b[0mname\u001b[0m\u001b[0;34m)\u001b[0m\u001b[0;34m\u001b[0m\u001b[0;34m\u001b[0m\u001b[0m\n\u001b[1;32m      3\u001b[0m \u001b[0mprint\u001b[0m\u001b[0;34m(\u001b[0m\u001b[0;34m\"The Frozen set is \"\u001b[0m\u001b[0;34m,\u001b[0m\u001b[0mname\u001b[0m\u001b[0;34m)\u001b[0m\u001b[0;34m\u001b[0m\u001b[0;34m\u001b[0m\u001b[0m\n\u001b[0;32m----> 4\u001b[0;31m \u001b[0mfset\u001b[0m\u001b[0;34m.\u001b[0m\u001b[0madd\u001b[0m\u001b[0;34m(\u001b[0m\u001b[0;34m'H'\u001b[0m\u001b[0;34m)\u001b[0m\u001b[0;34m\u001b[0m\u001b[0;34m\u001b[0m\u001b[0m\n\u001b[0m",
            "\u001b[0;31mAttributeError\u001b[0m: 'frozenset' object has no attribute 'add'"
          ]
        }
      ]
    },
    {
      "cell_type": "markdown",
      "metadata": {
        "id": "1ctTLDApV1_Z"
      },
      "source": [
        "**Q.2 Find the elements in a given set that are not in another set**\n",
        "\n",
        "    set1 = {10,20,30,40,50}\n",
        "\n",
        "    set2 = {40,50,60,70,80}"
      ]
    },
    {
      "cell_type": "code",
      "metadata": {
        "colab": {
          "base_uri": "https://localhost:8080/"
        },
        "id": "udAATYsdV-XB",
        "outputId": "e14f4e81-294a-4d65-8635-e009b39daa15"
      },
      "source": [
        "set1 = {10,20,30,40,50}\n",
        "set2 = {40,50,60,70,80}\n",
        "\n",
        "set3 = set1-set2\n",
        "set3"
      ],
      "execution_count": null,
      "outputs": [
        {
          "output_type": "execute_result",
          "data": {
            "text/plain": [
              "{10, 20, 30}"
            ]
          },
          "metadata": {
            "tags": []
          },
          "execution_count": 26
        }
      ]
    }
  ]
}